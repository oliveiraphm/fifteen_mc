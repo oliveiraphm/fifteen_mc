{
 "cells": [
  {
   "cell_type": "code",
   "execution_count": 1,
   "id": "808559ff",
   "metadata": {},
   "outputs": [],
   "source": [
    "import numpy as np"
   ]
  },
  {
   "cell_type": "code",
   "execution_count": 2,
   "id": "f2c3564a",
   "metadata": {},
   "outputs": [],
   "source": [
    "np.random.seed(17335)"
   ]
  },
  {
   "cell_type": "code",
   "execution_count": 3,
   "id": "5bdc986e",
   "metadata": {},
   "outputs": [
    {
     "name": "stdout",
     "output_type": "stream",
     "text": [
      "['S', 'S', 'S', 'S', 'S', 'I', 'R', 'R', 'R', 'R', 'R']\n"
     ]
    }
   ],
   "source": [
    "state_map = {0: \"S\", 1: \"I\", 2: \"R\"}\n",
    "\n",
    "rate_matrix = np.array([[0.9, 0.1, 0.0], [0.0, 0.8, 0.2], [0.05, 0.0, 0.95]])\n",
    "\n",
    "n_iter = 10\n",
    "\n",
    "current_state = 0\n",
    "states_sequence = [state_map[current_state]]\n",
    "\n",
    "for i in range(n_iter):\n",
    "    next_state_probs = rate_matrix[current_state, :]\n",
    "    next_state = np.random.choice(3, p=next_state_probs)\n",
    "\n",
    "    current_state = next_state\n",
    "    states_sequence.extend([state_map[current_state]])\n",
    "\n",
    "print(states_sequence)"
   ]
  },
  {
   "cell_type": "code",
   "execution_count": 4,
   "id": "614ede8d",
   "metadata": {},
   "outputs": [],
   "source": [
    "rate_eigen = np.linalg.eig(np.transpose(rate_matrix))"
   ]
  },
  {
   "cell_type": "code",
   "execution_count": 5,
   "id": "9067e6aa",
   "metadata": {},
   "outputs": [
    {
     "data": {
      "text/plain": [
       "array([0.825+0.06614378j, 0.825-0.06614378j, 1.   +0.j        ])"
      ]
     },
     "execution_count": 5,
     "metadata": {},
     "output_type": "execute_result"
    }
   ],
   "source": [
    "rate_eigen[0]"
   ]
  },
  {
   "cell_type": "code",
   "execution_count": 8,
   "id": "410394bb",
   "metadata": {},
   "outputs": [
    {
     "data": {
      "text/plain": [
       "array([0.28571429, 0.14285714, 0.57142857])"
      ]
     },
     "execution_count": 8,
     "metadata": {},
     "output_type": "execute_result"
    }
   ],
   "source": [
    "pi_stable = np.real(rate_eigen[1][:,2])\n",
    "\n",
    "pi_stable /= np.sum(pi_stable)\n",
    "\n",
    "pi_stable"
   ]
  },
  {
   "cell_type": "code",
   "execution_count": 9,
   "id": "e8d685fd",
   "metadata": {},
   "outputs": [
    {
     "data": {
      "text/plain": [
       "array([0.28571429, 0.14285715, 0.57142856])"
      ]
     },
     "execution_count": 9,
     "metadata": {},
     "output_type": "execute_result"
    }
   ],
   "source": [
    "current_distribution = np.array([1.0, 0.0, 0.0])\n",
    "\n",
    "n_iter = 100\n",
    "for i in range(n_iter):\n",
    "    next_distribution = np.matmul(current_distribution, rate_matrix)\n",
    "    current_distribution = next_distribution\n",
    "\n",
    "current_distribution"
   ]
  },
  {
   "cell_type": "code",
   "execution_count": 10,
   "id": "8808a83b",
   "metadata": {},
   "outputs": [],
   "source": [
    "def estimate_limiting_distribution(initial_distribution, rate_matrix, n_iter):\n",
    "\n",
    "    current_distribution = initial_distribution\n",
    "\n",
    "    for i in range(n_iter):\n",
    "        next_distribution = np.matmul(current_distribution, rate_matrix)\n",
    "        current_distribution = next_distribution\n",
    "\n",
    "    return current_distribution"
   ]
  },
  {
   "cell_type": "code",
   "execution_count": 12,
   "id": "ada86b85",
   "metadata": {},
   "outputs": [
    {
     "name": "stdout",
     "output_type": "stream",
     "text": [
      "Estimate of the limiting distribution starting from [0, 1, 0]\n"
     ]
    },
    {
     "data": {
      "text/plain": [
       "array([0.28571428, 0.14285714, 0.57142858])"
      ]
     },
     "execution_count": 12,
     "metadata": {},
     "output_type": "execute_result"
    }
   ],
   "source": [
    "limiting_distribution_estimate1 = estimate_limiting_distribution(\n",
    "    initial_distribution = np.array([0.0, 1.0, 0.0]),\n",
    "    rate_matrix = rate_matrix,\n",
    "    n_iter = 100\n",
    ")\n",
    "\n",
    "print(\"Estimate of the limiting distribution starting from [0, 1, 0]\")\n",
    "limiting_distribution_estimate1"
   ]
  },
  {
   "cell_type": "code",
   "execution_count": 13,
   "id": "c0d4fd35",
   "metadata": {},
   "outputs": [
    {
     "name": "stdout",
     "output_type": "stream",
     "text": [
      "Estimate of the limiting distribution starting from [1/3, 1/3, 1/3]\n"
     ]
    },
    {
     "data": {
      "text/plain": [
       "array([0.28571428, 0.14285714, 0.57142857])"
      ]
     },
     "execution_count": 13,
     "metadata": {},
     "output_type": "execute_result"
    }
   ],
   "source": [
    "limiting_distribution_estimate2 = estimate_limiting_distribution(initial_distribution=np.array([1.0/3.0, 1.0/3.0, 1.0/3.0]),\n",
    "                                                                 rate_matrix=rate_matrix,\n",
    "                                                                 n_iter=100)\n",
    "\n",
    "print(\"Estimate of the limiting distribution starting from [1/3, 1/3, 1/3]\")\n",
    "limiting_distribution_estimate2 "
   ]
  },
  {
   "cell_type": "code",
   "execution_count": 14,
   "id": "6530067c",
   "metadata": {},
   "outputs": [
    {
     "name": "stdout",
     "output_type": "stream",
     "text": [
      "Running trajectory 0 out of 10000\n",
      "Running trajectory 500 out of 10000\n",
      "Running trajectory 1000 out of 10000\n",
      "Running trajectory 1500 out of 10000\n",
      "Running trajectory 2000 out of 10000\n",
      "Running trajectory 2500 out of 10000\n",
      "Running trajectory 3000 out of 10000\n",
      "Running trajectory 3500 out of 10000\n",
      "Running trajectory 4000 out of 10000\n",
      "Running trajectory 4500 out of 10000\n",
      "Running trajectory 5000 out of 10000\n",
      "Running trajectory 5500 out of 10000\n",
      "Running trajectory 6000 out of 10000\n",
      "Running trajectory 6500 out of 10000\n",
      "Running trajectory 7000 out of 10000\n",
      "Running trajectory 7500 out of 10000\n",
      "Running trajectory 8000 out of 10000\n",
      "Running trajectory 8500 out of 10000\n",
      "Running trajectory 9000 out of 10000\n",
      "Running trajectory 9500 out of 10000\n"
     ]
    },
    {
     "data": {
      "text/plain": [
       "array([0.2835, 0.1459, 0.5706])"
      ]
     },
     "execution_count": 14,
     "metadata": {},
     "output_type": "execute_result"
    }
   ],
   "source": [
    "n_trajectories = 10000\n",
    "\n",
    "n_iter=1000\n",
    "\n",
    "final_state_distribution =np.zeros(3)\n",
    "\n",
    "for i in range(n_trajectories):\n",
    "    if i%500==0:\n",
    "        print(\"Running trajectory \" + str(i) + \" out of \" + str(n_trajectories))\n",
    "    \n",
    "    current_state = 0\n",
    "\n",
    "    for j in range(n_iter):\n",
    "        \n",
    "        next_state_probs = rate_matrix[current_state,:]\n",
    "    \n",
    "        next_state = np.random.choice(3, size=1, p=next_state_probs)[0]\n",
    "    \n",
    "        current_state = next_state\n",
    "    \n",
    "    final_state_distribution[current_state] += 1.0\n",
    "\n",
    "final_state_distribution /= float(n_trajectories)\n",
    "\n",
    "final_state_distribution"
   ]
  },
  {
   "cell_type": "code",
   "execution_count": null,
   "id": "510df67a",
   "metadata": {},
   "outputs": [],
   "source": []
  }
 ],
 "metadata": {
  "kernelspec": {
   "display_name": ".venv",
   "language": "python",
   "name": "python3"
  },
  "language_info": {
   "codemirror_mode": {
    "name": "ipython",
    "version": 3
   },
   "file_extension": ".py",
   "mimetype": "text/x-python",
   "name": "python",
   "nbconvert_exporter": "python",
   "pygments_lexer": "ipython3",
   "version": "3.12.1"
  }
 },
 "nbformat": 4,
 "nbformat_minor": 5
}
