{
 "cells": [
  {
   "cell_type": "code",
   "execution_count": null,
   "metadata": {},
   "outputs": [],
   "source": [
    "import numpy as np\n",
    "\n",
    "def binomial_probability(N,p,k):\n",
    "    import math\n",
    "\n",
    "    log_prob = np.log(math.factorial(N))\n",
    "    log_prob -= np.log(math.factorial(k))\n",
    "    log_prob -= np.log(math.factorial(N-k))\n",
    "\n",
    "    log_prob += float(k)*np.log(p)\n",
    "    log_prob += float(N-k)*np.log(1.0-p)\n",
    "\n",
    "    return np.exp(log_prob)\n",
    "\n",
    "def cumulative_binomial_probability(N,p):\n",
    "\n",
    "    cumulative_probs = np.zeros(N+1)\n",
    "    cumulative_probs[0] = binomial_probability(N=N, p=p, k=0)\n",
    "    for i in range(1, N+1):\n",
    "        cumulative_probs[i] = cumulative_probs[i-1] + binomial_probability(N=N, p=p, k=i)\n",
    "    return cumulative_probs\n"
   ]
  },
  {
   "cell_type": "markdown",
   "metadata": {},
   "source": []
  },
  {
   "cell_type": "code",
   "execution_count": null,
   "metadata": {},
   "outputs": [],
   "source": [
    "N = 20\n",
    "p = 0.6\n",
    "\n",
    "cumulative_probs = cumulative_binomial_probability(N=N,p=p)"
   ]
  }
 ],
 "metadata": {
  "kernelspec": {
   "display_name": ".venv",
   "language": "python",
   "name": "python3"
  },
  "language_info": {
   "codemirror_mode": {
    "name": "ipython",
    "version": 3
   },
   "file_extension": ".py",
   "mimetype": "text/x-python",
   "name": "python",
   "nbconvert_exporter": "python",
   "pygments_lexer": "ipython3",
   "version": "3.12.1"
  }
 },
 "nbformat": 4,
 "nbformat_minor": 2
}
