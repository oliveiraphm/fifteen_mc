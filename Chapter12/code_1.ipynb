{
 "cells": [
  {
   "cell_type": "code",
   "execution_count": 1,
   "id": "a1ba0d9e",
   "metadata": {},
   "outputs": [],
   "source": [
    "import pandas as pd\n",
    "import kernel_fda"
   ]
  },
  {
   "cell_type": "code",
   "execution_count": 2,
   "id": "541d5ce6",
   "metadata": {},
   "outputs": [],
   "source": [
    "df_LDA_ex1 = pd.read_csv(\"./Data/lda_ex1.csv\")"
   ]
  },
  {
   "cell_type": "code",
   "execution_count": 3,
   "id": "ae3fcace",
   "metadata": {},
   "outputs": [
    {
     "data": {
      "text/html": [
       "<div>\n",
       "<style scoped>\n",
       "    .dataframe tbody tr th:only-of-type {\n",
       "        vertical-align: middle;\n",
       "    }\n",
       "\n",
       "    .dataframe tbody tr th {\n",
       "        vertical-align: top;\n",
       "    }\n",
       "\n",
       "    .dataframe thead th {\n",
       "        text-align: right;\n",
       "    }\n",
       "</style>\n",
       "<table border=\"1\" class=\"dataframe\">\n",
       "  <thead>\n",
       "    <tr style=\"text-align: right;\">\n",
       "      <th></th>\n",
       "      <th>x1</th>\n",
       "      <th>x2</th>\n",
       "      <th>class</th>\n",
       "    </tr>\n",
       "  </thead>\n",
       "  <tbody>\n",
       "    <tr>\n",
       "      <th>0</th>\n",
       "      <td>-0.297128</td>\n",
       "      <td>0.477975</td>\n",
       "      <td>2</td>\n",
       "    </tr>\n",
       "    <tr>\n",
       "      <th>1</th>\n",
       "      <td>-0.575548</td>\n",
       "      <td>-0.274354</td>\n",
       "      <td>1</td>\n",
       "    </tr>\n",
       "    <tr>\n",
       "      <th>2</th>\n",
       "      <td>-0.793637</td>\n",
       "      <td>-0.681858</td>\n",
       "      <td>1</td>\n",
       "    </tr>\n",
       "    <tr>\n",
       "      <th>3</th>\n",
       "      <td>0.842911</td>\n",
       "      <td>-0.766655</td>\n",
       "      <td>2</td>\n",
       "    </tr>\n",
       "    <tr>\n",
       "      <th>4</th>\n",
       "      <td>-0.566261</td>\n",
       "      <td>0.621195</td>\n",
       "      <td>2</td>\n",
       "    </tr>\n",
       "    <tr>\n",
       "      <th>...</th>\n",
       "      <td>...</td>\n",
       "      <td>...</td>\n",
       "      <td>...</td>\n",
       "    </tr>\n",
       "    <tr>\n",
       "      <th>995</th>\n",
       "      <td>-0.589864</td>\n",
       "      <td>0.320973</td>\n",
       "      <td>1</td>\n",
       "    </tr>\n",
       "    <tr>\n",
       "      <th>996</th>\n",
       "      <td>-0.503128</td>\n",
       "      <td>0.594245</td>\n",
       "      <td>2</td>\n",
       "    </tr>\n",
       "    <tr>\n",
       "      <th>997</th>\n",
       "      <td>0.105585</td>\n",
       "      <td>0.528042</td>\n",
       "      <td>2</td>\n",
       "    </tr>\n",
       "    <tr>\n",
       "      <th>998</th>\n",
       "      <td>0.005938</td>\n",
       "      <td>-0.026639</td>\n",
       "      <td>1</td>\n",
       "    </tr>\n",
       "    <tr>\n",
       "      <th>999</th>\n",
       "      <td>-0.364396</td>\n",
       "      <td>-0.786401</td>\n",
       "      <td>1</td>\n",
       "    </tr>\n",
       "  </tbody>\n",
       "</table>\n",
       "<p>1000 rows × 3 columns</p>\n",
       "</div>"
      ],
      "text/plain": [
       "           x1        x2  class\n",
       "0   -0.297128  0.477975      2\n",
       "1   -0.575548 -0.274354      1\n",
       "2   -0.793637 -0.681858      1\n",
       "3    0.842911 -0.766655      2\n",
       "4   -0.566261  0.621195      2\n",
       "..        ...       ...    ...\n",
       "995 -0.589864  0.320973      1\n",
       "996 -0.503128  0.594245      2\n",
       "997  0.105585  0.528042      2\n",
       "998  0.005938 -0.026639      1\n",
       "999 -0.364396 -0.786401      1\n",
       "\n",
       "[1000 rows x 3 columns]"
      ]
     },
     "execution_count": 3,
     "metadata": {},
     "output_type": "execute_result"
    }
   ],
   "source": [
    "df_LDA_ex1"
   ]
  },
  {
   "cell_type": "code",
   "execution_count": 4,
   "id": "a50bb0d5",
   "metadata": {},
   "outputs": [],
   "source": [
    "linear_classifier_ex1 = kernel_fda.KFDA_Poly(degree=1)"
   ]
  },
  {
   "cell_type": "code",
   "execution_count": 6,
   "id": "97f01c9d",
   "metadata": {},
   "outputs": [],
   "source": [
    "linear_classifier_ex1.fit(X=df_LDA_ex1[['x1', 'x2']], y = df_LDA_ex1['class'])"
   ]
  },
  {
   "cell_type": "code",
   "execution_count": 7,
   "id": "e5e5e2f7",
   "metadata": {},
   "outputs": [
    {
     "data": {
      "text/plain": [
       "0.998"
      ]
     },
     "execution_count": 7,
     "metadata": {},
     "output_type": "execute_result"
    }
   ],
   "source": [
    "linear_classifier_ex1.score(X=df_LDA_ex1[['x1', 'x2']], y_true=df_LDA_ex1['class'])"
   ]
  },
  {
   "cell_type": "code",
   "execution_count": 8,
   "id": "0eb086b2",
   "metadata": {},
   "outputs": [],
   "source": [
    "df_LDA_ex2 = pd.read_csv(\"./Data/lda_ex2.csv\")"
   ]
  },
  {
   "cell_type": "code",
   "execution_count": 9,
   "id": "d2e395f5",
   "metadata": {},
   "outputs": [
    {
     "data": {
      "text/html": [
       "<div>\n",
       "<style scoped>\n",
       "    .dataframe tbody tr th:only-of-type {\n",
       "        vertical-align: middle;\n",
       "    }\n",
       "\n",
       "    .dataframe tbody tr th {\n",
       "        vertical-align: top;\n",
       "    }\n",
       "\n",
       "    .dataframe thead th {\n",
       "        text-align: right;\n",
       "    }\n",
       "</style>\n",
       "<table border=\"1\" class=\"dataframe\">\n",
       "  <thead>\n",
       "    <tr style=\"text-align: right;\">\n",
       "      <th></th>\n",
       "      <th>x1</th>\n",
       "      <th>x2</th>\n",
       "      <th>class</th>\n",
       "    </tr>\n",
       "  </thead>\n",
       "  <tbody>\n",
       "    <tr>\n",
       "      <th>0</th>\n",
       "      <td>0.074847</td>\n",
       "      <td>-0.244870</td>\n",
       "      <td>1</td>\n",
       "    </tr>\n",
       "    <tr>\n",
       "      <th>1</th>\n",
       "      <td>0.084495</td>\n",
       "      <td>-0.631542</td>\n",
       "      <td>1</td>\n",
       "    </tr>\n",
       "    <tr>\n",
       "      <th>2</th>\n",
       "      <td>0.644712</td>\n",
       "      <td>-0.622468</td>\n",
       "      <td>2</td>\n",
       "    </tr>\n",
       "    <tr>\n",
       "      <th>3</th>\n",
       "      <td>-0.059989</td>\n",
       "      <td>0.772946</td>\n",
       "      <td>2</td>\n",
       "    </tr>\n",
       "    <tr>\n",
       "      <th>4</th>\n",
       "      <td>0.571118</td>\n",
       "      <td>-0.393794</td>\n",
       "      <td>1</td>\n",
       "    </tr>\n",
       "    <tr>\n",
       "      <th>...</th>\n",
       "      <td>...</td>\n",
       "      <td>...</td>\n",
       "      <td>...</td>\n",
       "    </tr>\n",
       "    <tr>\n",
       "      <th>995</th>\n",
       "      <td>-0.582585</td>\n",
       "      <td>-0.805099</td>\n",
       "      <td>2</td>\n",
       "    </tr>\n",
       "    <tr>\n",
       "      <th>996</th>\n",
       "      <td>0.293623</td>\n",
       "      <td>0.110988</td>\n",
       "      <td>1</td>\n",
       "    </tr>\n",
       "    <tr>\n",
       "      <th>997</th>\n",
       "      <td>-0.300592</td>\n",
       "      <td>-0.486035</td>\n",
       "      <td>1</td>\n",
       "    </tr>\n",
       "    <tr>\n",
       "      <th>998</th>\n",
       "      <td>0.891114</td>\n",
       "      <td>0.702401</td>\n",
       "      <td>2</td>\n",
       "    </tr>\n",
       "    <tr>\n",
       "      <th>999</th>\n",
       "      <td>0.194557</td>\n",
       "      <td>-0.856586</td>\n",
       "      <td>2</td>\n",
       "    </tr>\n",
       "  </tbody>\n",
       "</table>\n",
       "<p>1000 rows × 3 columns</p>\n",
       "</div>"
      ],
      "text/plain": [
       "           x1        x2  class\n",
       "0    0.074847 -0.244870      1\n",
       "1    0.084495 -0.631542      1\n",
       "2    0.644712 -0.622468      2\n",
       "3   -0.059989  0.772946      2\n",
       "4    0.571118 -0.393794      1\n",
       "..        ...       ...    ...\n",
       "995 -0.582585 -0.805099      2\n",
       "996  0.293623  0.110988      1\n",
       "997 -0.300592 -0.486035      1\n",
       "998  0.891114  0.702401      2\n",
       "999  0.194557 -0.856586      2\n",
       "\n",
       "[1000 rows x 3 columns]"
      ]
     },
     "execution_count": 9,
     "metadata": {},
     "output_type": "execute_result"
    }
   ],
   "source": [
    "df_LDA_ex2"
   ]
  },
  {
   "cell_type": "code",
   "execution_count": 10,
   "id": "a6083a9d",
   "metadata": {},
   "outputs": [],
   "source": [
    "linear_classifier_ex2 = kernel_fda.KFDA_Poly(degree=1)"
   ]
  },
  {
   "cell_type": "code",
   "execution_count": 12,
   "id": "d3100610",
   "metadata": {},
   "outputs": [],
   "source": [
    "linear_classifier_ex2.fit(X=df_LDA_ex2[['x1', 'x2']], y=df_LDA_ex2['class'])"
   ]
  },
  {
   "cell_type": "code",
   "execution_count": 13,
   "id": "3635fc4a",
   "metadata": {},
   "outputs": [
    {
     "data": {
      "text/plain": [
       "0.502"
      ]
     },
     "execution_count": 13,
     "metadata": {},
     "output_type": "execute_result"
    }
   ],
   "source": [
    "linear_classifier_ex2.score(X=df_LDA_ex2[['x1', 'x2']], y_true=df_LDA_ex2['class'])"
   ]
  },
  {
   "cell_type": "code",
   "execution_count": 14,
   "id": "fd6d4d3e",
   "metadata": {},
   "outputs": [],
   "source": [
    "kernel_classifier = kernel_fda.KFDA_Poly(degree=2)"
   ]
  },
  {
   "cell_type": "code",
   "execution_count": 15,
   "id": "d32315e4",
   "metadata": {},
   "outputs": [],
   "source": [
    "kernel_classifier.fit(X=df_LDA_ex2[['x1', 'x2']], y=df_LDA_ex2['class'])"
   ]
  },
  {
   "cell_type": "code",
   "execution_count": 16,
   "id": "c719ac0c",
   "metadata": {},
   "outputs": [
    {
     "data": {
      "text/plain": [
       "0.911"
      ]
     },
     "execution_count": 16,
     "metadata": {},
     "output_type": "execute_result"
    }
   ],
   "source": [
    "kernel_classifier.score(X=df_LDA_ex2[['x1', 'x2']], y_true=df_LDA_ex2['class'])"
   ]
  },
  {
   "cell_type": "code",
   "execution_count": null,
   "id": "e49b108a",
   "metadata": {},
   "outputs": [],
   "source": []
  }
 ],
 "metadata": {
  "kernelspec": {
   "display_name": ".venv",
   "language": "python",
   "name": "python3"
  },
  "language_info": {
   "codemirror_mode": {
    "name": "ipython",
    "version": 3
   },
   "file_extension": ".py",
   "mimetype": "text/x-python",
   "name": "python",
   "nbconvert_exporter": "python",
   "pygments_lexer": "ipython3",
   "version": "3.12.1"
  }
 },
 "nbformat": 4,
 "nbformat_minor": 5
}
