{
 "cells": [
  {
   "cell_type": "code",
   "execution_count": 1,
   "metadata": {},
   "outputs": [],
   "source": [
    "import pandas as pd\n",
    "import numpy as np\n",
    "\n",
    "from statsmodels.stats.weightstats import ttest_ind as ttest_ind_sm\n",
    "from statsmodels.stats.weightstats import DescrStatsW, CompareMeans\n",
    "from statsmodels.stats.power import TTestIndPower\n",
    "from scipy.stats import ttest_ind, t"
   ]
  },
  {
   "cell_type": "code",
   "execution_count": 2,
   "metadata": {},
   "outputs": [],
   "source": [
    "np.random.seed(1869)"
   ]
  },
  {
   "cell_type": "code",
   "execution_count": 3,
   "metadata": {},
   "outputs": [],
   "source": [
    "df_simple_example = pd.read_csv(\"./Data/hypothesis_test_example.csv\")"
   ]
  },
  {
   "cell_type": "code",
   "execution_count": 5,
   "metadata": {},
   "outputs": [
    {
     "data": {
      "text/html": [
       "<div>\n",
       "<style scoped>\n",
       "    .dataframe tbody tr th:only-of-type {\n",
       "        vertical-align: middle;\n",
       "    }\n",
       "\n",
       "    .dataframe tbody tr th {\n",
       "        vertical-align: top;\n",
       "    }\n",
       "\n",
       "    .dataframe thead th {\n",
       "        text-align: right;\n",
       "    }\n",
       "</style>\n",
       "<table border=\"1\" class=\"dataframe\">\n",
       "  <thead>\n",
       "    <tr style=\"text-align: right;\">\n",
       "      <th></th>\n",
       "      <th>x_A</th>\n",
       "      <th>x_B</th>\n",
       "    </tr>\n",
       "  </thead>\n",
       "  <tbody>\n",
       "    <tr>\n",
       "      <th>0</th>\n",
       "      <td>2.035733</td>\n",
       "      <td>-0.171019</td>\n",
       "    </tr>\n",
       "    <tr>\n",
       "      <th>1</th>\n",
       "      <td>1.105017</td>\n",
       "      <td>0.655910</td>\n",
       "    </tr>\n",
       "    <tr>\n",
       "      <th>2</th>\n",
       "      <td>-0.745565</td>\n",
       "      <td>0.994498</td>\n",
       "    </tr>\n",
       "    <tr>\n",
       "      <th>3</th>\n",
       "      <td>1.882300</td>\n",
       "      <td>1.146082</td>\n",
       "    </tr>\n",
       "    <tr>\n",
       "      <th>4</th>\n",
       "      <td>-0.369233</td>\n",
       "      <td>0.317476</td>\n",
       "    </tr>\n",
       "    <tr>\n",
       "      <th>5</th>\n",
       "      <td>0.806429</td>\n",
       "      <td>1.124682</td>\n",
       "    </tr>\n",
       "    <tr>\n",
       "      <th>6</th>\n",
       "      <td>0.320897</td>\n",
       "      <td>-0.413721</td>\n",
       "    </tr>\n",
       "    <tr>\n",
       "      <th>7</th>\n",
       "      <td>0.910782</td>\n",
       "      <td>0.326461</td>\n",
       "    </tr>\n",
       "    <tr>\n",
       "      <th>8</th>\n",
       "      <td>1.141452</td>\n",
       "      <td>0.309490</td>\n",
       "    </tr>\n",
       "    <tr>\n",
       "      <th>9</th>\n",
       "      <td>1.803123</td>\n",
       "      <td>0.538578</td>\n",
       "    </tr>\n",
       "  </tbody>\n",
       "</table>\n",
       "</div>"
      ],
      "text/plain": [
       "        x_A       x_B\n",
       "0  2.035733 -0.171019\n",
       "1  1.105017  0.655910\n",
       "2 -0.745565  0.994498\n",
       "3  1.882300  1.146082\n",
       "4 -0.369233  0.317476\n",
       "5  0.806429  1.124682\n",
       "6  0.320897 -0.413721\n",
       "7  0.910782  0.326461\n",
       "8  1.141452  0.309490\n",
       "9  1.803123  0.538578"
      ]
     },
     "execution_count": 5,
     "metadata": {},
     "output_type": "execute_result"
    }
   ],
   "source": [
    "df_simple_example.head(10)"
   ]
  },
  {
   "cell_type": "code",
   "execution_count": 6,
   "metadata": {},
   "outputs": [
    {
     "data": {
      "text/html": [
       "<div>\n",
       "<style scoped>\n",
       "    .dataframe tbody tr th:only-of-type {\n",
       "        vertical-align: middle;\n",
       "    }\n",
       "\n",
       "    .dataframe tbody tr th {\n",
       "        vertical-align: top;\n",
       "    }\n",
       "\n",
       "    .dataframe thead th {\n",
       "        text-align: right;\n",
       "    }\n",
       "</style>\n",
       "<table border=\"1\" class=\"dataframe\">\n",
       "  <thead>\n",
       "    <tr style=\"text-align: right;\">\n",
       "      <th></th>\n",
       "      <th>x_A</th>\n",
       "      <th>x_B</th>\n",
       "    </tr>\n",
       "  </thead>\n",
       "  <tbody>\n",
       "    <tr>\n",
       "      <th>count</th>\n",
       "      <td>100.000000</td>\n",
       "      <td>100.000000</td>\n",
       "    </tr>\n",
       "    <tr>\n",
       "      <th>mean</th>\n",
       "      <td>0.529000</td>\n",
       "      <td>0.176000</td>\n",
       "    </tr>\n",
       "    <tr>\n",
       "      <th>std</th>\n",
       "      <td>0.938470</td>\n",
       "      <td>0.983872</td>\n",
       "    </tr>\n",
       "    <tr>\n",
       "      <th>min</th>\n",
       "      <td>-1.036634</td>\n",
       "      <td>-1.957430</td>\n",
       "    </tr>\n",
       "    <tr>\n",
       "      <th>25%</th>\n",
       "      <td>-0.241617</td>\n",
       "      <td>-0.448830</td>\n",
       "    </tr>\n",
       "    <tr>\n",
       "      <th>50%</th>\n",
       "      <td>0.544784</td>\n",
       "      <td>0.250698</td>\n",
       "    </tr>\n",
       "    <tr>\n",
       "      <th>75%</th>\n",
       "      <td>1.108813</td>\n",
       "      <td>0.676324</td>\n",
       "    </tr>\n",
       "    <tr>\n",
       "      <th>max</th>\n",
       "      <td>3.126451</td>\n",
       "      <td>2.612088</td>\n",
       "    </tr>\n",
       "  </tbody>\n",
       "</table>\n",
       "</div>"
      ],
      "text/plain": [
       "              x_A         x_B\n",
       "count  100.000000  100.000000\n",
       "mean     0.529000    0.176000\n",
       "std      0.938470    0.983872\n",
       "min     -1.036634   -1.957430\n",
       "25%     -0.241617   -0.448830\n",
       "50%      0.544784    0.250698\n",
       "75%      1.108813    0.676324\n",
       "max      3.126451    2.612088"
      ]
     },
     "execution_count": 6,
     "metadata": {},
     "output_type": "execute_result"
    }
   ],
   "source": [
    "df_simple_example.describe()"
   ]
  },
  {
   "cell_type": "code",
   "execution_count": 7,
   "metadata": {},
   "outputs": [
    {
     "data": {
      "text/plain": [
       "TtestResult(statistic=2.5961983095998966, pvalue=0.010132851609223453, df=198.0)"
      ]
     },
     "execution_count": 7,
     "metadata": {},
     "output_type": "execute_result"
    }
   ],
   "source": [
    "ttest_ind(df_simple_example[\"x_A\"], df_simple_example[\"x_B\"])"
   ]
  },
  {
   "cell_type": "code",
   "execution_count": 8,
   "metadata": {},
   "outputs": [
    {
     "data": {
      "text/plain": [
       "(2.596198309599896, 0.010132851609223469, 198.0)"
      ]
     },
     "execution_count": 8,
     "metadata": {},
     "output_type": "execute_result"
    }
   ],
   "source": [
    "ttest_ind_sm(df_simple_example['x_A'], df_simple_example['x_B'])"
   ]
  },
  {
   "cell_type": "code",
   "execution_count": 9,
   "metadata": {},
   "outputs": [
    {
     "name": "stdout",
     "output_type": "stream",
     "text": [
      "p-value estimate from right-hand tail of PDF =  0.010132851609223614\n",
      "p-value estimate from left-hand tail of PDF =  0.01013285160922349\n"
     ]
    }
   ],
   "source": [
    "p_value1 = 2.0*(1.0 - t.cdf(2.5961983095998953, 198))\n",
    "p_value2 = 2.0*t.cdf(-2.5961983095998953, 198)\n",
    "\n",
    "print(\"p-value estimate from right-hand tail of PDF = \", p_value1)\n",
    "print(\"p-value estimate from left-hand tail of PDF = \", p_value2)"
   ]
  },
  {
   "cell_type": "code",
   "execution_count": 13,
   "metadata": {},
   "outputs": [
    {
     "name": "stdout",
     "output_type": "stream",
     "text": [
      "Observed t-value is =  2.5961983095998966\n",
      "Permutation estimated p-value =  0.01032989670103299\n"
     ]
    }
   ],
   "source": [
    "n_permutations = 100000\n",
    "\n",
    "x_All = np.concatenate((df_simple_example[\"x_A\"].to_numpy(), df_simple_example[\"x_B\"].to_numpy()))\n",
    "\n",
    "nA = df_simple_example.shape[0]\n",
    "nB = nA\n",
    "\n",
    "A_indices = np.arange(0, nA)\n",
    "B_indices = np.arange(nA, (nA+nB))\n",
    "\n",
    "m_A = np.mean(x_All[A_indices])\n",
    "m_B = np.mean(x_All[B_indices])\n",
    "\n",
    "s2_A = np.var(x_All[A_indices], ddof=1)\n",
    "s2_B = np.var(x_All[B_indices], ddof=1)\n",
    "\n",
    "sigma2_observed = (((nA-1)*s2_A) + ((nB-1)*s2_B))/(nA+nB-2)\n",
    "t_observed = (m_A - m_B) / (np.sqrt(sigma2_observed) * np.sqrt(2.0/nA))\n",
    "\n",
    "print(\"Observed t-value is = \", t_observed)\n",
    "\n",
    "p_count = 0.0\n",
    "\n",
    "for i in range(n_permutations):\n",
    "\n",
    "    permutted_indices = np.random.permutation(nA+nB)\n",
    "    A_indices = permutted_indices[:nA]\n",
    "    B_indices = permutted_indices[nA:(nA+nB)]\n",
    "\n",
    "    m_A = np.mean(x_All[A_indices])\n",
    "    m_B = np.mean(x_All[B_indices])\n",
    "\n",
    "    s2_A = np.var(x_All[A_indices], ddof=1)\n",
    "    s2_B = np.var(x_All[B_indices], ddof=1)\n",
    "\n",
    "    sigma2_permutted = (((nA-1)*s2_A) + ((nB-1)*s2_B))/(nA+nB-2)\n",
    "    t_permutted = (m_A - m_B) / (np.sqrt(sigma2_permutted) * np.sqrt(2.0/nA))\n",
    "\n",
    "    if np.abs(t_permutted) >= np.abs(t_observed):\n",
    "        p_count += 1.0\n",
    "\n",
    "p_value_permutation = (1.0+p_count)/(1.0+n_permutations)\n",
    "print(\"Permutation estimated p-value = \", p_value_permutation)\n",
    "                          "
   ]
  },
  {
   "cell_type": "code",
   "execution_count": 14,
   "metadata": {},
   "outputs": [
    {
     "name": "stderr",
     "output_type": "stream",
     "text": [
      "/tmp/ipykernel_28551/1230841105.py:1: DeprecationWarning: Arguments {'permutations'} are deprecated, whether passed by position or keyword. They will be removed in SciPy 1.17.0. Use ``method`` to perform a permutation test.\n",
      "  ttest_ind(df_simple_example['x_A'].to_numpy(), df_simple_example['x_B'].to_numpy(), permutations=n_permutations)\n"
     ]
    },
    {
     "data": {
      "text/plain": [
       "TtestResult(statistic=2.5961983095998966, pvalue=0.00988990110098899, df=nan)"
      ]
     },
     "execution_count": 14,
     "metadata": {},
     "output_type": "execute_result"
    }
   ],
   "source": [
    "ttest_ind(df_simple_example['x_A'].to_numpy(), df_simple_example['x_B'].to_numpy(), permutations=n_permutations)\n"
   ]
  },
  {
   "cell_type": "code",
   "execution_count": 4,
   "metadata": {},
   "outputs": [
    {
     "data": {
      "text/plain": [
       "(0.08486864535681571, 0.6211313546431838)"
      ]
     },
     "execution_count": 4,
     "metadata": {},
     "output_type": "execute_result"
    }
   ],
   "source": [
    "mean_comparison = CompareMeans(DescrStatsW(df_simple_example['x_A']), DescrStatsW(df_simple_example['x_B']))\n",
    "\n",
    "mean_difference_95CI = mean_comparison.tconfint_diff()\n",
    "\n",
    "mean_difference_95CI"
   ]
  },
  {
   "cell_type": "code",
   "execution_count": 5,
   "metadata": {},
   "outputs": [
    {
     "data": {
      "text/plain": [
       "(-0.0006375498458349727, 0.7066375498458345)"
      ]
     },
     "execution_count": 5,
     "metadata": {},
     "output_type": "execute_result"
    }
   ],
   "source": [
    "mean_difference_99CI = mean_comparison.tconfint_diff(alpha=0.01)\n",
    "\n",
    "mean_difference_99CI"
   ]
  },
  {
   "cell_type": "code",
   "execution_count": 7,
   "metadata": {},
   "outputs": [
    {
     "name": "stdout",
     "output_type": "stream",
     "text": [
      "Sample size required =  63.76561058785403\n"
     ]
    }
   ],
   "source": [
    "import warnings\n",
    "\n",
    "with warnings.catch_warnings():\n",
    "    warnings.simplefilter(\"ignore\")\n",
    "    print(\"Sample size required = \", TTestIndPower().solve_power(effect_size=0.5, nobs1=None, alpha=0.05, power=0.8, ratio=1.0, alternative='two-sided'))"
   ]
  },
  {
   "cell_type": "code",
   "execution_count": 9,
   "metadata": {},
   "outputs": [
    {
     "name": "stdout",
     "output_type": "stream",
     "text": [
      "Power =  0.8000000024858956\n"
     ]
    }
   ],
   "source": [
    "\n",
    "print(\"Power = \", TTestIndPower().power(effect_size=0.5, nobs1=63.76561058785403, alpha=0.05, ratio=1.0, alternative='two-sided'))"
   ]
  },
  {
   "cell_type": "code",
   "execution_count": 10,
   "metadata": {},
   "outputs": [
    {
     "name": "stdout",
     "output_type": "stream",
     "text": [
      "Power =  0.899894079418773\n"
     ]
    }
   ],
   "source": [
    "print(\"Power = \", TTestIndPower().power(effect_size=0.5, nobs1=85, alpha=0.05, ratio=1.0, alternative='two-sided'))"
   ]
  },
  {
   "cell_type": "code",
   "execution_count": null,
   "metadata": {},
   "outputs": [],
   "source": []
  }
 ],
 "metadata": {
  "kernelspec": {
   "display_name": ".venv",
   "language": "python",
   "name": "python3"
  },
  "language_info": {
   "codemirror_mode": {
    "name": "ipython",
    "version": 3
   },
   "file_extension": ".py",
   "mimetype": "text/x-python",
   "name": "python",
   "nbconvert_exporter": "python",
   "pygments_lexer": "ipython3",
   "version": "3.12.1"
  }
 },
 "nbformat": 4,
 "nbformat_minor": 2
}
