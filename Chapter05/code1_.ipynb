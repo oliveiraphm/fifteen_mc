{
 "cells": [
  {
   "cell_type": "code",
   "execution_count": 23,
   "metadata": {},
   "outputs": [],
   "source": [
    "import pandas as pd\n",
    "import numpy as np\n",
    "import matplotlib.pyplot as plt\n",
    "\n",
    "from scipy.special import loggamma\n",
    "from scipy.optimize import minimize"
   ]
  },
  {
   "cell_type": "code",
   "execution_count": 6,
   "metadata": {},
   "outputs": [],
   "source": [
    "\n",
    "def get_neg_log_binomial_posterior(n_trial, n_success, alpha, beta):\n",
    "\n",
    "    def neg_log_binomial_posterior(logit_p):\n",
    "        p = np.exp(logit_p) / (1.0 + np.exp(logit_p))\n",
    "\n",
    "        log_prior = loggamma(alpha + beta) - loggamma(alpha) - loggamma(beta)\n",
    "        log_prior += ((alpha-1.0) * np.log(p)) + ((beta-1.0) * np.log(1.0-p))\n",
    "\n",
    "        log_likelihood = loggamma(n_trial + 1)\n",
    "        log_likelihood -= loggamma(n_trial - n_success + 1.0)\n",
    "        log_likelihood -= loggamma(n_success + 1.0)\n",
    "        log_likelihood += (n_success * np.log(p))\n",
    "        log_likelihood += ((n_trial - n_success) * np.log(1.0 - p))\n",
    "\n",
    "        log_posterior = log_likelihood + log_prior\n",
    "\n",
    "        return -log_posterior\n",
    "    \n",
    "    return neg_log_binomial_posterior"
   ]
  },
  {
   "cell_type": "code",
   "execution_count": 7,
   "metadata": {},
   "outputs": [],
   "source": [
    "n_trial = 10\n",
    "n_success = 5\n",
    "\n",
    "alpha = 8\n",
    "beta = 2\n",
    "\n",
    "neg_log_posterior = get_neg_log_binomial_posterior(n_trial, n_success, alpha, beta)\n",
    "\n",
    "p0 = float(n_success) / float(n_trial)\n",
    "logit_p0 = np.log(p0 / (1.0 -p0))\n",
    "x0 = np.array([logit_p0])\n"
   ]
  },
  {
   "cell_type": "code",
   "execution_count": 8,
   "metadata": {},
   "outputs": [
    {
     "name": "stdout",
     "output_type": "stream",
     "text": [
      "Optimization terminated successfully.\n",
      "         Current function value: 1.651160\n",
      "         Iterations: 5\n",
      "         Function evaluations: 12\n",
      "         Gradient evaluations: 6\n"
     ]
    }
   ],
   "source": [
    "map_estimate = minimize(neg_log_posterior, x0, method='BFGS', options={'disp': True})"
   ]
  },
  {
   "cell_type": "code",
   "execution_count": 9,
   "metadata": {},
   "outputs": [
    {
     "data": {
      "text/plain": [
       "  message: Optimization terminated successfully.\n",
       "  success: True\n",
       "   status: 0\n",
       "      fun: 1.6511598227791526\n",
       "        x: [ 6.931e-01]\n",
       "      nit: 5\n",
       "      jac: [ 2.980e-08]\n",
       " hess_inv: [[ 2.499e-01]]\n",
       "     nfev: 12\n",
       "     njev: 6"
      ]
     },
     "execution_count": 9,
     "metadata": {},
     "output_type": "execute_result"
    }
   ],
   "source": [
    "map_estimate"
   ]
  },
  {
   "cell_type": "code",
   "execution_count": 10,
   "metadata": {},
   "outputs": [
    {
     "name": "stdout",
     "output_type": "stream",
     "text": [
      "MAP estimate of success probability =  0.6666666638873496\n"
     ]
    }
   ],
   "source": [
    "p_optimal = np.exp(map_estimate['x'][0])/ (1.0 + np.exp(map_estimate['x'][0]))\n",
    "print(\"MAP estimate of success probability = \", p_optimal)"
   ]
  },
  {
   "cell_type": "code",
   "execution_count": 11,
   "metadata": {},
   "outputs": [],
   "source": [
    "def perform_mh_trial(x, log_post, delta_x, neg_log_posterior):\n",
    "    accept_trial = False\n",
    "    x_trial = x + (delta_x*(2.0*np.random.rand(1) - 1.0))\n",
    "    p_trial = np.exp(x_trial)/(1.0 + np.exp(x_trial))\n",
    "    \n",
    "    # Calculate the log-posterior for the trial point.\n",
    "    # Note we'll need to flip the sign of neg_log_posterior, as \n",
    "    # our callable returns the negative of the log-posterior.\n",
    "    log_post_trial = -neg_log_posterior(x_trial) + np.log(p_trial*(1.0-p_trial))\n",
    "    \n",
    "    # Calculate the change in log-posterior if we move to the trial point\n",
    "    delta_log_post = log_post_trial - log_post\n",
    "        \n",
    "    # Work out if should accept the trial point\n",
    "    if delta_log_post > 0.0:\n",
    "        accept_trial = True\n",
    "    else:\n",
    "        if np.log(np.random.rand(1)) < delta_log_post:\n",
    "            accept_trial = True\n",
    "            \n",
    "    # If we accept the trial point then update the current value of the parameter and \n",
    "    # the log-posterior\n",
    "    if accept_trial==True:\n",
    "        x = x_trial\n",
    "        log_post = log_post_trial\n",
    "        \n",
    "    return x, log_post\n",
    "\n",
    "def mh_mcmc(n_burnin, n_iter, x0, delta_x, neg_log_posterior):\n",
    "    x = x0\n",
    "    p0 = np.exp(x0)/(1.0 + np.exp(x0))\n",
    "    log_post = -neg_log_posterior(x) + np.log(p0*(1.0-p0))\n",
    "    \n",
    "    # Run the chain for the specified burn-in length\n",
    "    for iter in range(n_burnin):\n",
    "        x, log_post = perform_mh_trial(x, log_post, delta_x, neg_log_posterior)\n",
    "        \n",
    "    # Initialize an empty array to hold the sampled parameter values\n",
    "    x_chain = np.zeros(n_iter)\n",
    "    \n",
    "    # Continue the chain for the specified number of sampling points\n",
    "    # Store the sampled parameter values\n",
    "    for iter in range(n_iter):\n",
    "        x, log_post = perform_mh_trial(x, log_post, delta_x, neg_log_posterior)\n",
    "        x_chain[iter] = x\n",
    "        \n",
    "    return x_chain"
   ]
  },
  {
   "cell_type": "code",
   "execution_count": 12,
   "metadata": {},
   "outputs": [],
   "source": [
    "n_trial = 10\n",
    "n_success = 5\n",
    "\n",
    "alpha = 8\n",
    "beta = 2\n",
    "\n",
    "p0 = float(n_success) / float(n_trial)\n",
    "logit_p0 = np.log(p0 / (1.0 -p0))"
   ]
  },
  {
   "cell_type": "code",
   "execution_count": 13,
   "metadata": {},
   "outputs": [
    {
     "name": "stderr",
     "output_type": "stream",
     "text": [
      "/tmp/ipykernel_4393/905240008.py:45: DeprecationWarning: Conversion of an array with ndim > 0 to a scalar is deprecated, and will error in future. Ensure you extract a single element from your array before performing this operation. (Deprecated NumPy 1.25.)\n",
      "  x_chain[iter] = x\n"
     ]
    }
   ],
   "source": [
    "x_chain = mh_mcmc(n_burnin=20000, \n",
    "                  n_iter=1000000, \n",
    "                  x0=logit_p0, \n",
    "                  delta_x=0.1, \n",
    "                  neg_log_posterior=neg_log_posterior)"
   ]
  },
  {
   "cell_type": "code",
   "execution_count": 14,
   "metadata": {},
   "outputs": [],
   "source": [
    "p_mcmc = np.exp(x_chain)/ (1.0 + np.exp(x_chain))"
   ]
  },
  {
   "cell_type": "code",
   "execution_count": 15,
   "metadata": {},
   "outputs": [],
   "source": [
    "def true_binomial_posterior(n_trial, n_success, alpha, beta, p):\n",
    "    \n",
    "    log_posterior = loggamma(n_trial + alpha + beta) - loggamma(n_success + alpha) - loggamma(n_trial - n_success + beta)\n",
    "    log_posterior += ((n_success + alpha - 1.0)*np.log(p)) + ((n_trial-n_success + beta -1.0)*np.log(1.0-p))\n",
    "    \n",
    "    posterior = np.exp(log_posterior)\n",
    "    \n",
    "    return posterior"
   ]
  },
  {
   "cell_type": "code",
   "execution_count": 16,
   "metadata": {},
   "outputs": [],
   "source": [
    "p_sequence = np.arange(0.01, 0.99, 0.005)\n",
    "true_posterior_sequence = np.zeros(p_sequence.shape[0])\n",
    "\n",
    "for i in range(true_posterior_sequence.shape[0]):\n",
    "    true_posterior_sequence[i] = true_binomial_posterior(n_trial, n_success, alpha, beta, p_sequence[i])"
   ]
  },
  {
   "cell_type": "code",
   "execution_count": 25,
   "metadata": {},
   "outputs": [
    {
     "data": {
      "image/png": "[encoded data removed]",
      "text/plain": [
       "<Figure size 640x480 with 1 Axes>"
      ]
     },
     "metadata": {},
     "output_type": "display_data"
    }
   ],
   "source": [
    "hist = plt.hist(p_mcmc, bins=100, density=True)\n",
    "posterior = plt.plot(p_sequence, true_posterior_sequence)\n",
    "plt.title('Histogram of MCMC samples', fontsize=24)\n",
    "plt.xlabel(r'$p$', fontsize=20)\n",
    "plt.ylabel('Probability Density', fontsize=20)\n",
    "plt.xticks(fontsize=14)\n",
    "plt.yticks(fontsize=14)\n",
    "plt.show()"
   ]
  },
  {
   "cell_type": "code",
   "execution_count": null,
   "metadata": {},
   "outputs": [],
   "source": []
  }
 ],
 "metadata": {
  "kernelspec": {
   "display_name": ".venv",
   "language": "python",
   "name": "python3"
  },
  "language_info": {
   "codemirror_mode": {
    "name": "ipython",
    "version": 3
   },
   "file_extension": ".py",
   "mimetype": "text/x-python",
   "name": "python",
   "nbconvert_exporter": "python",
   "pygments_lexer": "ipython3",
   "version": "3.12.1"
  }
 },
 "nbformat": 4,
 "nbformat_minor": 2
}
