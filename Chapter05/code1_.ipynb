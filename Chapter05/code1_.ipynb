{
 "cells": [
  {
   "cell_type": "code",
   "execution_count": 2,
   "metadata": {},
   "outputs": [],
   "source": [
    "import pandas as pd\n",
    "import numpy as np\n",
    "import matplotlib\n",
    "\n",
    "from scipy.special import loggamma\n",
    "from scipy.optimize import minimize"
   ]
  },
  {
   "cell_type": "code",
   "execution_count": 6,
   "metadata": {},
   "outputs": [],
   "source": [
    "\n",
    "def get_neg_log_binomial_posterior(n_trial, n_success, alpha, beta):\n",
    "\n",
    "    def neg_log_binomial_posterior(logit_p):\n",
    "        p = np.exp(logit_p) / (1.0 + np.exp(logit_p))\n",
    "\n",
    "        log_prior = loggamma(alpha + beta) - loggamma(alpha) - loggamma(beta)\n",
    "        log_prior += ((alpha-1.0) * np.log(p)) + ((beta-1.0) * np.log(1.0-p))\n",
    "\n",
    "        log_likelihood = loggamma(n_trial + 1)\n",
    "        log_likelihood -= loggamma(n_trial - n_success + 1.0)\n",
    "        log_likelihood -= loggamma(n_success + 1.0)\n",
    "        log_likelihood += (n_success * np.log(p))\n",
    "        log_likelihood += ((n_trial - n_success) * np.log(1.0 - p))\n",
    "\n",
    "        log_posterior = log_likelihood + log_prior\n",
    "\n",
    "        return -log_posterior\n",
    "    \n",
    "    return neg_log_binomial_posterior"
   ]
  },
  {
   "cell_type": "code",
   "execution_count": 7,
   "metadata": {},
   "outputs": [],
   "source": [
    "n_trial = 10\n",
    "n_success = 5\n",
    "\n",
    "alpha = 8\n",
    "beta = 2\n",
    "\n",
    "neg_log_posterior = get_neg_log_binomial_posterior(n_trial, n_success, alpha, beta)\n",
    "\n",
    "p0 = float(n_success) / float(n_trial)\n",
    "logit_p0 = np.log(p0 / (1.0 -p0))\n",
    "x0 = np.array([logit_p0])\n"
   ]
  },
  {
   "cell_type": "code",
   "execution_count": 8,
   "metadata": {},
   "outputs": [
    {
     "name": "stdout",
     "output_type": "stream",
     "text": [
      "Optimization terminated successfully.\n",
      "         Current function value: 1.651160\n",
      "         Iterations: 5\n",
      "         Function evaluations: 12\n",
      "         Gradient evaluations: 6\n"
     ]
    }
   ],
   "source": [
    "map_estimate = minimize(neg_log_posterior, x0, method='BFGS', options={'disp': True})"
   ]
  },
  {
   "cell_type": "code",
   "execution_count": 9,
   "metadata": {},
   "outputs": [
    {
     "data": {
      "text/plain": [
       "  message: Optimization terminated successfully.\n",
       "  success: True\n",
       "   status: 0\n",
       "      fun: 1.6511598227791526\n",
       "        x: [ 6.931e-01]\n",
       "      nit: 5\n",
       "      jac: [ 2.980e-08]\n",
       " hess_inv: [[ 2.499e-01]]\n",
       "     nfev: 12\n",
       "     njev: 6"
      ]
     },
     "execution_count": 9,
     "metadata": {},
     "output_type": "execute_result"
    }
   ],
   "source": [
    "map_estimate"
   ]
  },
  {
   "cell_type": "code",
   "execution_count": 10,
   "metadata": {},
   "outputs": [
    {
     "name": "stdout",
     "output_type": "stream",
     "text": [
      "MAP estimate of success probability =  0.6666666638873496\n"
     ]
    }
   ],
   "source": [
    "p_optimal = np.exp(map_estimate['x'][0])/ (1.0 + np.exp(map_estimate['x'][0]))\n",
    "print(\"MAP estimate of success probability = \", p_optimal)"
   ]
  },
  {
   "cell_type": "code",
   "execution_count": null,
   "metadata": {},
   "outputs": [],
   "source": []
  }
 ],
 "metadata": {
  "kernelspec": {
   "display_name": ".venv",
   "language": "python",
   "name": "python3"
  },
  "language_info": {
   "codemirror_mode": {
    "name": "ipython",
    "version": 3
   },
   "file_extension": ".py",
   "mimetype": "text/x-python",
   "name": "python",
   "nbconvert_exporter": "python",
   "pygments_lexer": "ipython3",
   "version": "3.12.1"
  }
 },
 "nbformat": 4,
 "nbformat_minor": 2
}
